{
 "cells": [
  {
   "cell_type": "markdown",
   "metadata": {},
   "source": [
    "# Fraud Detection using Gaussian Mixture Model"
   ]
  },
  {
   "cell_type": "code",
   "execution_count": 23,
   "metadata": {},
   "outputs": [],
   "source": [
    "# first import some modules\n",
    "import pandas as pd\n",
    "from sklearn.model_selection import train_test_split\n",
    "import numpy as np\n",
    "import matplotlib.pyplot as plt\n",
    "from sklearn import mixture\n",
    "from sklearn.metrics import roc_curve, auc, confusion_matrix, accuracy_score\n",
    "import itertools"
   ]
  },
  {
   "cell_type": "code",
   "execution_count": 24,
   "metadata": {},
   "outputs": [],
   "source": [
    "data = pd.read_csv(\"creditcard.csv\")"
   ]
  },
  {
   "cell_type": "code",
   "execution_count": 25,
   "metadata": {},
   "outputs": [
    {
     "data": {
      "text/plain": [
       "0    284315\n",
       "1       492\n",
       "dtype: int64"
      ]
     },
     "execution_count": 25,
     "metadata": {},
     "output_type": "execute_result"
    }
   ],
   "source": [
    "pd.value_counts(data['Class'].values, sort=False)"
   ]
  },
  {
   "cell_type": "markdown",
   "metadata": {},
   "source": [
    "### Out of all the dataset only  492 is anomaly data points (fraud)"
   ]
  },
  {
   "cell_type": "code",
   "execution_count": 26,
   "metadata": {},
   "outputs": [],
   "source": [
    "# For more stastical analysis, you can see this:\n",
    "# https://www.kaggle.com/clemensmzr/simple-multivariate-gaussian-anomaly-detection\n",
    "data = data.drop([\"Time\"],axis=1)"
   ]
  },
  {
   "cell_type": "code",
   "execution_count": 27,
   "metadata": {},
   "outputs": [],
   "source": [
    "# divide the data in to training and test part\n",
    "train_data, test_data = train_test_split(data,test_size=.02)\n",
    "x_train,y_train = train_data.drop([\"Class\"],axis=1),train_data['Class']\n",
    "x_test,y_test = test_data.drop([\"Class\"],axis=1),test_data['Class']\n",
    "\n",
    "train_data = x_train.get_values()\n",
    "y_train = y_train.get_values()\n",
    "\n",
    "test_data = x_test.get_values()\n",
    "y_test = y_test.get_values()"
   ]
  },
  {
   "cell_type": "markdown",
   "metadata": {},
   "source": [
    "#### As I said above, I will use the Gaussian mixture model for the anomaly detection, you might wonder why not simple classifier, the answer is the data, very few +ve examples are there in the dataset, if we train the classifier on such data, it will be highly biased"
   ]
  },
  {
   "cell_type": "code",
   "execution_count": 28,
   "metadata": {},
   "outputs": [
    {
     "data": {
      "image/png": "[encoded data removed]",
      "text/plain": [
       "<Figure size 432x288 with 1 Axes>"
      ]
     },
     "metadata": {},
     "output_type": "display_data"
    }
   ],
   "source": [
    "lowest_bic = np.infty\n",
    "bic = []\n",
    "n_components_range = range(2, 3)\n",
    "num_of_iter = 200 # you can increase the number of iteration to get the better result\n",
    "\n",
    "color_= ['navy', 'turquoise', 'cornflowerblue','darkorange']\n",
    "cv_types = ['spherical', 'tied', 'diag', 'full']\n",
    "#For more info abt the covariance type see here \n",
    "#https://stats.stackexchange.com/questions/326671/different-covariance-types-for-gaussian-mixture-models\n",
    "\n",
    "# Get the best model\n",
    "for cv_type in cv_types:\n",
    "    # Fit a Gaussian mixture with EM\n",
    "    gmm = mixture.GaussianMixture(n_components=2,covariance_type=cv_type,max_iter =num_of_iter)\n",
    "    gmm.fit(train_data)\n",
    "    bic.append(gmm.bic(train_data))\n",
    "    if bic[-1] < lowest_bic:\n",
    "        lowest_bic = bic[-1]\n",
    "        best_gmm = gmm\n",
    "# to determine the best model, I am using the BIC Score,\n",
    "# Here is nice article on it : https://methodology.psu.edu/AIC-vs-BIC\n",
    "bic = np.array(bic)\n",
    "\n",
    "def plotBicScore(bic,cv_types):\n",
    "    '''\n",
    "    bic - BIC Score\n",
    "    cv_type - Covariance matrix type\n",
    "    '''\n",
    "    x = np.arange(4)\n",
    "    plt.bar(x, bic)\n",
    "    plt.title('BIC score per model for 2 components')\n",
    "    plt.xticks(x, cv_types)\n",
    "    plt.show()\n",
    "plotBicScore(bic,cv_types)"
   ]
  },
  {
   "cell_type": "markdown",
   "metadata": {},
   "source": [
    "#### The full covariance matrix type gives the best lowest bic score"
   ]
  },
  {
   "cell_type": "code",
   "execution_count": 29,
   "metadata": {},
   "outputs": [],
   "source": [
    "clf = best_gmm"
   ]
  },
  {
   "cell_type": "markdown",
   "metadata": {},
   "source": [
    "#### Let's plot the ROC curve to find the out the model performance"
   ]
  },
  {
   "cell_type": "code",
   "execution_count": 30,
   "metadata": {},
   "outputs": [
    {
     "data": {
      "image/png": "[encoded data removed]",
      "text/plain": [
       "<Figure size 432x288 with 1 Axes>"
      ]
     },
     "metadata": {},
     "output_type": "display_data"
    }
   ],
   "source": [
    "def plotRocCurve(test_data,y_test,clf):\n",
    "    y_score = clf.predict_proba(test_data)\n",
    "    # how well it is doing on the anomalies, so -> 1\n",
    "    fpr, tpr, _ = roc_curve(y_test, y_score[:, 1])\n",
    "    roc_auc = auc(fpr, tpr)\n",
    "    \n",
    "    plt.figure()\n",
    "    lw = 2\n",
    "    plt.plot(fpr, tpr, color='darkorange',\n",
    "             lw=lw, label='ROC curve (area = %0.2f)' % roc_auc)\n",
    "    plt.plot([0, 1], [0, 1], color='navy', lw=lw, linestyle='--')\n",
    "    plt.xlim([0.0, 1.0])\n",
    "    plt.ylim([0.0, 1.05])\n",
    "    plt.xlabel('False Positive Rate')\n",
    "    plt.ylabel('True Positive Rate')\n",
    "    plt.title('Receiver operating characteristic example')\n",
    "    plt.legend(loc=\"lower right\")\n",
    "    plt.show()\n",
    "plotRocCurve(test_data,y_test,clf)"
   ]
  },
  {
   "cell_type": "markdown",
   "metadata": {},
   "source": [
    "#### So AUC score is .68, let's find out the model confusion matrix (default threshold is .5)"
   ]
  },
  {
   "cell_type": "code",
   "execution_count": 34,
   "metadata": {},
   "outputs": [
    {
     "data": {
      "image/png": "[encoded data removed]",
      "text/plain": [
       "<Figure size 432x288 with 2 Axes>"
      ]
     },
     "metadata": {},
     "output_type": "display_data"
    }
   ],
   "source": [
    "def plt_confusion_matrix(y_pred,y_test,accuracy):\n",
    "    # Compute confusion matrix\n",
    "    cnf_matrix = confusion_matrix(y_test, y_pred)\n",
    "    CLASS_NAME  = [\"Normal\",\"Anomalie\"]\n",
    "    # Plot non-normalized confusion matrix\n",
    "    title_=  \"Accuracy is \"+ str(accuracy)\n",
    "    plot_confusion_matrix(cnf_matrix, classes=CLASS_NAME,title=title_)\n",
    "\n",
    "def plot_confusion_matrix(cm, classes,\n",
    "                          normalize=False,\n",
    "                          title='Confusion matrix',\n",
    "                          cmap=plt.cm.Blues):\n",
    "   \n",
    "    \n",
    "    \"\"\"\n",
    "    This function prints and plots the confusion matrix.\n",
    "    Normalization can be applied by setting `normalize=True`.\n",
    "    \"\"\"\n",
    "    plt.imshow(cm, interpolation='nearest', cmap=cmap)\n",
    "    plt.title(title)\n",
    "    plt.colorbar()\n",
    "    tick_marks = np.arange(len(classes))\n",
    "    plt.xticks(tick_marks, classes, rotation=45)\n",
    "    plt.yticks(tick_marks, classes)\n",
    "    thresh = cm.max() / 2.\n",
    "    for i, j in itertools.product(range(cm.shape[0]), range(cm.shape[1])):\n",
    "        plt.text(j, i, cm[i, j],\n",
    "                 horizontalalignment=\"center\",\n",
    "                 color=\"white\" if cm[i, j] > thresh else \"black\")\n",
    "\n",
    "    plt.tight_layout()\n",
    "    plt.ylabel('True label')\n",
    "    plt.xlabel('Predicted label')\n",
    "    plt.show()\n",
    "y_pred_class = clf.predict(test_data)\n",
    "score_ = accuracy_score(y_test, y_pred_class,normalize=True)\n",
    "plt_confusion_matrix(y_pred_class,y_test,score_)"
   ]
  },
  {
   "cell_type": "markdown",
   "metadata": {},
   "source": [
    "#### As you can see above out of the 11 anomalies, we are able to detect 7 of them. To make them better one thing you can do is to change the default threshold, and then see the result. Remember, with change in threshold your false positive will also increase."
   ]
  },
  {
   "cell_type": "code",
   "execution_count": null,
   "metadata": {},
   "outputs": [],
   "source": []
  }
 ],
 "metadata": {
  "kernelspec": {
   "display_name": "Python [conda env:pytorch_gpu1]",
   "language": "python",
   "name": "conda-env-pytorch_gpu1-py"
  },
  "language_info": {
   "codemirror_mode": {
    "name": "ipython",
    "version": 3
   },
   "file_extension": ".py",
   "mimetype": "text/x-python",
   "name": "python",
   "nbconvert_exporter": "python",
   "pygments_lexer": "ipython3",
   "version": "3.6.5"
  }
 },
 "nbformat": 4,
 "nbformat_minor": 2
}
